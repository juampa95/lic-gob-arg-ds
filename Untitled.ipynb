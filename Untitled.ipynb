{
 "cells": [
  {
   "cell_type": "code",
   "execution_count": 1,
   "id": "9c9278a6",
   "metadata": {},
   "outputs": [],
   "source": [
    "import pandas as pd "
   ]
  },
  {
   "cell_type": "code",
   "execution_count": 18,
   "id": "17c65214",
   "metadata": {},
   "outputs": [],
   "source": [
    "datos = pd.read_csv(\"https://github.com/juampa95/lic-gob-arg-ds/raw/main/ReporteProcesos.csv\",\n",
    "#                     on_bad_lines='skip',\n",
    "                    encoding='latin1',\n",
    "                    header = 0)"
   ]
  },
  {
   "cell_type": "code",
   "execution_count": 19,
   "id": "c3b8aca4",
   "metadata": {},
   "outputs": [
    {
     "data": {
      "text/plain": [
       "(55682, 1)"
      ]
     },
     "execution_count": 19,
     "metadata": {},
     "output_type": "execute_result"
    }
   ],
   "source": [
    "datos.shape"
   ]
  },
  {
   "cell_type": "code",
   "execution_count": 22,
   "id": "db8cd4d1",
   "metadata": {},
   "outputs": [
    {
     "data": {
      "text/html": [
       "<div>\n",
       "<style scoped>\n",
       "    .dataframe tbody tr th:only-of-type {\n",
       "        vertical-align: middle;\n",
       "    }\n",
       "\n",
       "    .dataframe tbody tr th {\n",
       "        vertical-align: top;\n",
       "    }\n",
       "\n",
       "    .dataframe thead th {\n",
       "        text-align: right;\n",
       "    }\n",
       "</style>\n",
       "<table border=\"1\" class=\"dataframe\">\n",
       "  <thead>\n",
       "    <tr style=\"text-align: right;\">\n",
       "      <th></th>\n",
       "      <th>Número de Proceso;Expediente;Nombre proceso;Tipo proceso;Fecha de apertura;Estado;Unidad Ejecutora;Servicio Administrativo Financiero</th>\n",
       "    </tr>\n",
       "  </thead>\n",
       "  <tbody>\n",
       "    <tr>\n",
       "      <th>0</th>\n",
       "      <td>101-0001-CDI20;EX-2020-04589013-   -APN-DGCA#I...</td>\n",
       "    </tr>\n",
       "    <tr>\n",
       "      <th>1</th>\n",
       "      <td>101-0001-CDI21;EX-2021-04785393-   -APN-DGCA#I...</td>\n",
       "    </tr>\n",
       "    <tr>\n",
       "      <th>2</th>\n",
       "      <td>101-0001-CDI23;EX-2023-06082277-   -APN-DGCA#I...</td>\n",
       "    </tr>\n",
       "    <tr>\n",
       "      <th>3</th>\n",
       "      <td>101-0001-LPR21;EX-2021-07629151-   -APN-DGCA#I...</td>\n",
       "    </tr>\n",
       "    <tr>\n",
       "      <th>4</th>\n",
       "      <td>101-0001-LPR22;EX-2022-22456393-   -APN-DGCA#I...</td>\n",
       "    </tr>\n",
       "    <tr>\n",
       "      <th>...</th>\n",
       "      <td>...</td>\n",
       "    </tr>\n",
       "    <tr>\n",
       "      <th>55677</th>\n",
       "      <td>98-0047-CDI18;EX-2018-62720359-   -APN-DA#FMLC...</td>\n",
       "    </tr>\n",
       "    <tr>\n",
       "      <th>55678</th>\n",
       "      <td>98-0047-CDI19;EX-2019-110167792-   -APN-DA#FML...</td>\n",
       "    </tr>\n",
       "    <tr>\n",
       "      <th>55679</th>\n",
       "      <td>98-0049-CDI18;EX-2018-64937814-   -APN-DA#FMLC...</td>\n",
       "    </tr>\n",
       "    <tr>\n",
       "      <th>55680</th>\n",
       "      <td>98-0051-CDI18;EX-2018-56722799-   -APN-DA#FMLC...</td>\n",
       "    </tr>\n",
       "    <tr>\n",
       "      <th>55681</th>\n",
       "      <td>98-0052-CDI18;EX-2018-67407333-   -APN-DA#FMLC...</td>\n",
       "    </tr>\n",
       "  </tbody>\n",
       "</table>\n",
       "<p>55682 rows × 1 columns</p>\n",
       "</div>"
      ],
      "text/plain": [
       "      Número de Proceso;Expediente;Nombre proceso;Tipo proceso;Fecha de apertura;Estado;Unidad Ejecutora;Servicio Administrativo Financiero\n",
       "0      101-0001-CDI20;EX-2020-04589013-   -APN-DGCA#I...                                                                                   \n",
       "1      101-0001-CDI21;EX-2021-04785393-   -APN-DGCA#I...                                                                                   \n",
       "2      101-0001-CDI23;EX-2023-06082277-   -APN-DGCA#I...                                                                                   \n",
       "3      101-0001-LPR21;EX-2021-07629151-   -APN-DGCA#I...                                                                                   \n",
       "4      101-0001-LPR22;EX-2022-22456393-   -APN-DGCA#I...                                                                                   \n",
       "...                                                  ...                                                                                   \n",
       "55677  98-0047-CDI18;EX-2018-62720359-   -APN-DA#FMLC...                                                                                   \n",
       "55678  98-0047-CDI19;EX-2019-110167792-   -APN-DA#FML...                                                                                   \n",
       "55679  98-0049-CDI18;EX-2018-64937814-   -APN-DA#FMLC...                                                                                   \n",
       "55680  98-0051-CDI18;EX-2018-56722799-   -APN-DA#FMLC...                                                                                   \n",
       "55681  98-0052-CDI18;EX-2018-67407333-   -APN-DA#FMLC...                                                                                   \n",
       "\n",
       "[55682 rows x 1 columns]"
      ]
     },
     "execution_count": 22,
     "metadata": {},
     "output_type": "execute_result"
    }
   ],
   "source": [
    "datos"
   ]
  },
  {
   "cell_type": "code",
   "execution_count": null,
   "id": "6af0178d",
   "metadata": {},
   "outputs": [],
   "source": []
  }
 ],
 "metadata": {
  "kernelspec": {
   "display_name": "Python 3 (ipykernel)",
   "language": "python",
   "name": "python3"
  },
  "language_info": {
   "codemirror_mode": {
    "name": "ipython",
    "version": 3
   },
   "file_extension": ".py",
   "mimetype": "text/x-python",
   "name": "python",
   "nbconvert_exporter": "python",
   "pygments_lexer": "ipython3",
   "version": "3.9.7"
  }
 },
 "nbformat": 4,
 "nbformat_minor": 5
}
