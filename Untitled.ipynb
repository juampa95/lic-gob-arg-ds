{
 "cells": [
  {
   "cell_type": "code",
   "execution_count": 1,
   "id": "e53ad1bd",
   "metadata": {},
   "outputs": [],
   "source": [
    "import pandas as pd "
   ]
  },
  {
   "cell_type": "code",
   "execution_count": 23,
   "id": "1cb7da98",
   "metadata": {},
   "outputs": [],
   "source": [
    "datos = pd.read_csv(\"https://github.com/juampa95/lic-gob-arg-ds/raw/main/ReporteProcesos.csv\",\n",
    "#                     on_bad_lines='skip',\n",
    "                    encoding='latin1',\n",
    "                    header = 0)"
   ]
  },
  {
   "cell_type": "code",
   "execution_count": 24,
   "id": "dee78e97",
   "metadata": {},
   "outputs": [
    {
     "data": {
      "text/plain": [
       "(55759, 8)"
      ]
     },
     "execution_count": 24,
     "metadata": {},
     "output_type": "execute_result"
    }
   ],
   "source": [
    "datos.shape"
   ]
  },
  {
   "cell_type": "code",
   "execution_count": 30,
   "id": "4a66fb9f",
   "metadata": {},
   "outputs": [
    {
     "data": {
      "text/html": [
       "<div>\n",
       "<style scoped>\n",
       "    .dataframe tbody tr th:only-of-type {\n",
       "        vertical-align: middle;\n",
       "    }\n",
       "\n",
       "    .dataframe tbody tr th {\n",
       "        vertical-align: top;\n",
       "    }\n",
       "\n",
       "    .dataframe thead th {\n",
       "        text-align: right;\n",
       "    }\n",
       "</style>\n",
       "<table border=\"1\" class=\"dataframe\">\n",
       "  <thead>\n",
       "    <tr style=\"text-align: right;\">\n",
       "      <th></th>\n",
       "      <th>ï»¿NÃºmero de Proceso</th>\n",
       "      <th>Expediente</th>\n",
       "      <th>Nombre proceso</th>\n",
       "      <th>Tipo proceso</th>\n",
       "      <th>Fecha de apertura</th>\n",
       "      <th>Estado</th>\n",
       "      <th>Unidad Ejecutora</th>\n",
       "      <th>Servicio Administrativo Financiero</th>\n",
       "    </tr>\n",
       "  </thead>\n",
       "  <tbody>\n",
       "    <tr>\n",
       "      <th>0</th>\n",
       "      <td>101-0001-CDI20</td>\n",
       "      <td>EX-2020-04589013-   -APN-DGCA#INPI</td>\n",
       "      <td>Servicio de enlace punto a punto</td>\n",
       "      <td>ContrataciÃ³n Directa</td>\n",
       "      <td>31/01/2020 10:00 Hrs.</td>\n",
       "      <td>Adjudicado</td>\n",
       "      <td>101 - Departamento de Compras y Contrataciones</td>\n",
       "      <td>622 - Instituto Nacional de la Propiedad Indus...</td>\n",
       "    </tr>\n",
       "    <tr>\n",
       "      <th>1</th>\n",
       "      <td>101-0001-CDI21</td>\n",
       "      <td>EX-2021-04785393-   -APN-DGCA#INPI</td>\n",
       "      <td>Servicio de alquiler y mantenimiento de dispen...</td>\n",
       "      <td>ContrataciÃ³n Directa</td>\n",
       "      <td>10/02/2021 10:00 Hrs.</td>\n",
       "      <td>Adjudicado</td>\n",
       "      <td>101 - Departamento de Compras y Contrataciones</td>\n",
       "      <td>622 - Instituto Nacional de la Propiedad Indus...</td>\n",
       "    </tr>\n",
       "    <tr>\n",
       "      <th>2</th>\n",
       "      <td>101-0001-CDI23</td>\n",
       "      <td>EX-2023-06082277-   -APN-DGCA#INPI</td>\n",
       "      <td>SuscripciÃ³n Anual de Patbase y Chemical Explorer</td>\n",
       "      <td>ContrataciÃ³n Directa</td>\n",
       "      <td>26/01/2023 09:00 Hrs.</td>\n",
       "      <td>Adjudicado</td>\n",
       "      <td>101 - Departamento de Compras y Contrataciones</td>\n",
       "      <td>622 - Instituto Nacional de la Propiedad Indus...</td>\n",
       "    </tr>\n",
       "    <tr>\n",
       "      <th>3</th>\n",
       "      <td>101-0001-LPR21</td>\n",
       "      <td>EX-2021-07629151-   -APN-DGCA#INPI</td>\n",
       "      <td>Servicio de mantenimiento preventivo de equipo...</td>\n",
       "      <td>LicitaciÃ³n Privada</td>\n",
       "      <td>22/02/2021 10:00 Hrs.</td>\n",
       "      <td>Adjudicado</td>\n",
       "      <td>101 - Departamento de Compras y Contrataciones</td>\n",
       "      <td>622 - Instituto Nacional de la Propiedad Indus...</td>\n",
       "    </tr>\n",
       "    <tr>\n",
       "      <th>4</th>\n",
       "      <td>101-0001-LPR22</td>\n",
       "      <td>EX-2022-22456393-   -APN-DGCA#INPI</td>\n",
       "      <td>AdquisiciÃ³n de notebooks</td>\n",
       "      <td>LicitaciÃ³n Privada</td>\n",
       "      <td>09/05/2022 12:00 Hrs.</td>\n",
       "      <td>Adjudicado</td>\n",
       "      <td>101 - Departamento de Compras y Contrataciones</td>\n",
       "      <td>622 - Instituto Nacional de la Propiedad Indus...</td>\n",
       "    </tr>\n",
       "  </tbody>\n",
       "</table>\n",
       "</div>"
      ],
      "text/plain": [
       "  ï»¿NÃºmero de Proceso                          Expediente  \\\n",
       "0        101-0001-CDI20  EX-2020-04589013-   -APN-DGCA#INPI   \n",
       "1        101-0001-CDI21  EX-2021-04785393-   -APN-DGCA#INPI   \n",
       "2        101-0001-CDI23  EX-2023-06082277-   -APN-DGCA#INPI   \n",
       "3        101-0001-LPR21  EX-2021-07629151-   -APN-DGCA#INPI   \n",
       "4        101-0001-LPR22  EX-2022-22456393-   -APN-DGCA#INPI   \n",
       "\n",
       "                                      Nombre proceso           Tipo proceso  \\\n",
       "0                   Servicio de enlace punto a punto  ContrataciÃ³n Directa   \n",
       "1  Servicio de alquiler y mantenimiento de dispen...  ContrataciÃ³n Directa   \n",
       "2  SuscripciÃ³n Anual de Patbase y Chemical Explorer  ContrataciÃ³n Directa   \n",
       "3  Servicio de mantenimiento preventivo de equipo...    LicitaciÃ³n Privada   \n",
       "4                          AdquisiciÃ³n de notebooks    LicitaciÃ³n Privada   \n",
       "\n",
       "       Fecha de apertura      Estado  \\\n",
       "0  31/01/2020 10:00 Hrs.  Adjudicado   \n",
       "1  10/02/2021 10:00 Hrs.  Adjudicado   \n",
       "2  26/01/2023 09:00 Hrs.  Adjudicado   \n",
       "3  22/02/2021 10:00 Hrs.  Adjudicado   \n",
       "4  09/05/2022 12:00 Hrs.  Adjudicado   \n",
       "\n",
       "                                 Unidad Ejecutora  \\\n",
       "0  101 - Departamento de Compras y Contrataciones   \n",
       "1  101 - Departamento de Compras y Contrataciones   \n",
       "2  101 - Departamento de Compras y Contrataciones   \n",
       "3  101 - Departamento de Compras y Contrataciones   \n",
       "4  101 - Departamento de Compras y Contrataciones   \n",
       "\n",
       "                  Servicio Administrativo Financiero  \n",
       "0  622 - Instituto Nacional de la Propiedad Indus...  \n",
       "1  622 - Instituto Nacional de la Propiedad Indus...  \n",
       "2  622 - Instituto Nacional de la Propiedad Indus...  \n",
       "3  622 - Instituto Nacional de la Propiedad Indus...  \n",
       "4  622 - Instituto Nacional de la Propiedad Indus...  "
      ]
     },
     "execution_count": 30,
     "metadata": {},
     "output_type": "execute_result"
    }
   ],
   "source": [
    "datos.head()"
   ]
  },
  {
   "cell_type": "code",
   "execution_count": 39,
   "id": "ac31146e",
   "metadata": {},
   "outputs": [
    {
     "data": {
      "text/plain": [
       "b'Contrataci\\xc3\\x83\\xc2\\xb3n Directa'"
      ]
     },
     "execution_count": 39,
     "metadata": {},
     "output_type": "execute_result"
    }
   ],
   "source": [
    "'ContrataciÃ³n Directa'.encode(\"utf8\",\"namereplace\")"
   ]
  },
  {
   "cell_type": "code",
   "execution_count": null,
   "id": "c9a24e45",
   "metadata": {},
   "outputs": [],
   "source": []
  }
 ],
 "metadata": {
  "kernelspec": {
   "display_name": "Python 3 (ipykernel)",
   "language": "python",
   "name": "python3"
  },
  "language_info": {
   "codemirror_mode": {
    "name": "ipython",
    "version": 3
   },
   "file_extension": ".py",
   "mimetype": "text/x-python",
   "name": "python",
   "nbconvert_exporter": "python",
   "pygments_lexer": "ipython3",
   "version": "3.9.7"
  }
 },
 "nbformat": 4,
 "nbformat_minor": 5
}
