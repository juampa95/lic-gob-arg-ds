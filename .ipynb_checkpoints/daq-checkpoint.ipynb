{
 "cells": [
  {
   "cell_type": "code",
   "execution_count": 1,
   "id": "65cf47c6",
   "metadata": {},
   "outputs": [],
   "source": [
    "import pandas as pd "
   ]
  },
  {
   "cell_type": "code",
   "execution_count": 41,
   "id": "d97d45e5",
   "metadata": {},
   "outputs": [],
   "source": [
    "datos = pd.read_csv(\"https://github.com/juampa95/lic-gob-arg-ds/raw/main/ReporteProcesos.csv\",\n",
    "#                     on_bad_lines='skip',\n",
    "                    encoding='utf8',\n",
    "                    header = 0)"
   ]
  },
  {
   "cell_type": "markdown",
   "id": "d1d05b55",
   "metadata": {},
   "source": [
    "https://comprar.gob.ar/BuscarAvanzado.aspx\n",
    "\n",
    "Caracteristcas de el archivo. \n",
    "\n",
    "Se descarga desde compr.ar en xml. Para carga se paso a csv en el excel ya que es mas liviano. Pero antes de hacerlo fue necesario modifciar las columnas que tenian una coma (,) adentro de sus datos. Se reemplazaron por (;).\n",
    "Para poder guardarlo y que las listas las separe con comas en lugar de (;) vamos a tener que cambiar la region de la pc a Español(Estados unidos). Ya que el español argentina separa las listas con ;\n",
    "Luego se guarda como csv utf8.\n"
   ]
  },
  {
   "cell_type": "code",
   "execution_count": 42,
   "id": "46105df9",
   "metadata": {},
   "outputs": [
    {
     "data": {
      "text/plain": [
       "(55759, 8)"
      ]
     },
     "execution_count": 42,
     "metadata": {},
     "output_type": "execute_result"
    }
   ],
   "source": [
    "datos.shape"
   ]
  },
  {
   "cell_type": "code",
   "execution_count": 43,
   "id": "4db96394",
   "metadata": {},
   "outputs": [
    {
     "data": {
      "text/html": [
       "<div>\n",
       "<style scoped>\n",
       "    .dataframe tbody tr th:only-of-type {\n",
       "        vertical-align: middle;\n",
       "    }\n",
       "\n",
       "    .dataframe tbody tr th {\n",
       "        vertical-align: top;\n",
       "    }\n",
       "\n",
       "    .dataframe thead th {\n",
       "        text-align: right;\n",
       "    }\n",
       "</style>\n",
       "<table border=\"1\" class=\"dataframe\">\n",
       "  <thead>\n",
       "    <tr style=\"text-align: right;\">\n",
       "      <th></th>\n",
       "      <th>Número de Proceso</th>\n",
       "      <th>Expediente</th>\n",
       "      <th>Nombre proceso</th>\n",
       "      <th>Tipo proceso</th>\n",
       "      <th>Fecha de apertura</th>\n",
       "      <th>Estado</th>\n",
       "      <th>Unidad Ejecutora</th>\n",
       "      <th>Servicio Administrativo Financiero</th>\n",
       "    </tr>\n",
       "  </thead>\n",
       "  <tbody>\n",
       "    <tr>\n",
       "      <th>0</th>\n",
       "      <td>101-0001-CDI20</td>\n",
       "      <td>EX-2020-04589013-   -APN-DGCA#INPI</td>\n",
       "      <td>Servicio de enlace punto a punto</td>\n",
       "      <td>Contratación Directa</td>\n",
       "      <td>31/01/2020 10:00 Hrs.</td>\n",
       "      <td>Adjudicado</td>\n",
       "      <td>101 - Departamento de Compras y Contrataciones</td>\n",
       "      <td>622 - Instituto Nacional de la Propiedad Indus...</td>\n",
       "    </tr>\n",
       "    <tr>\n",
       "      <th>1</th>\n",
       "      <td>101-0001-CDI21</td>\n",
       "      <td>EX-2021-04785393-   -APN-DGCA#INPI</td>\n",
       "      <td>Servicio de alquiler y mantenimiento de dispen...</td>\n",
       "      <td>Contratación Directa</td>\n",
       "      <td>10/02/2021 10:00 Hrs.</td>\n",
       "      <td>Adjudicado</td>\n",
       "      <td>101 - Departamento de Compras y Contrataciones</td>\n",
       "      <td>622 - Instituto Nacional de la Propiedad Indus...</td>\n",
       "    </tr>\n",
       "    <tr>\n",
       "      <th>2</th>\n",
       "      <td>101-0001-CDI23</td>\n",
       "      <td>EX-2023-06082277-   -APN-DGCA#INPI</td>\n",
       "      <td>Suscripción Anual de Patbase y Chemical Explorer</td>\n",
       "      <td>Contratación Directa</td>\n",
       "      <td>26/01/2023 09:00 Hrs.</td>\n",
       "      <td>Adjudicado</td>\n",
       "      <td>101 - Departamento de Compras y Contrataciones</td>\n",
       "      <td>622 - Instituto Nacional de la Propiedad Indus...</td>\n",
       "    </tr>\n",
       "    <tr>\n",
       "      <th>3</th>\n",
       "      <td>101-0001-LPR21</td>\n",
       "      <td>EX-2021-07629151-   -APN-DGCA#INPI</td>\n",
       "      <td>Servicio de mantenimiento preventivo de equipo...</td>\n",
       "      <td>Licitación Privada</td>\n",
       "      <td>22/02/2021 10:00 Hrs.</td>\n",
       "      <td>Adjudicado</td>\n",
       "      <td>101 - Departamento de Compras y Contrataciones</td>\n",
       "      <td>622 - Instituto Nacional de la Propiedad Indus...</td>\n",
       "    </tr>\n",
       "    <tr>\n",
       "      <th>4</th>\n",
       "      <td>101-0001-LPR22</td>\n",
       "      <td>EX-2022-22456393-   -APN-DGCA#INPI</td>\n",
       "      <td>Adquisición de notebooks</td>\n",
       "      <td>Licitación Privada</td>\n",
       "      <td>09/05/2022 12:00 Hrs.</td>\n",
       "      <td>Adjudicado</td>\n",
       "      <td>101 - Departamento de Compras y Contrataciones</td>\n",
       "      <td>622 - Instituto Nacional de la Propiedad Indus...</td>\n",
       "    </tr>\n",
       "  </tbody>\n",
       "</table>\n",
       "</div>"
      ],
      "text/plain": [
       "  Número de Proceso                          Expediente  \\\n",
       "0    101-0001-CDI20  EX-2020-04589013-   -APN-DGCA#INPI   \n",
       "1    101-0001-CDI21  EX-2021-04785393-   -APN-DGCA#INPI   \n",
       "2    101-0001-CDI23  EX-2023-06082277-   -APN-DGCA#INPI   \n",
       "3    101-0001-LPR21  EX-2021-07629151-   -APN-DGCA#INPI   \n",
       "4    101-0001-LPR22  EX-2022-22456393-   -APN-DGCA#INPI   \n",
       "\n",
       "                                      Nombre proceso          Tipo proceso  \\\n",
       "0                   Servicio de enlace punto a punto  Contratación Directa   \n",
       "1  Servicio de alquiler y mantenimiento de dispen...  Contratación Directa   \n",
       "2   Suscripción Anual de Patbase y Chemical Explorer  Contratación Directa   \n",
       "3  Servicio de mantenimiento preventivo de equipo...    Licitación Privada   \n",
       "4                           Adquisición de notebooks    Licitación Privada   \n",
       "\n",
       "       Fecha de apertura      Estado  \\\n",
       "0  31/01/2020 10:00 Hrs.  Adjudicado   \n",
       "1  10/02/2021 10:00 Hrs.  Adjudicado   \n",
       "2  26/01/2023 09:00 Hrs.  Adjudicado   \n",
       "3  22/02/2021 10:00 Hrs.  Adjudicado   \n",
       "4  09/05/2022 12:00 Hrs.  Adjudicado   \n",
       "\n",
       "                                 Unidad Ejecutora  \\\n",
       "0  101 - Departamento de Compras y Contrataciones   \n",
       "1  101 - Departamento de Compras y Contrataciones   \n",
       "2  101 - Departamento de Compras y Contrataciones   \n",
       "3  101 - Departamento de Compras y Contrataciones   \n",
       "4  101 - Departamento de Compras y Contrataciones   \n",
       "\n",
       "                  Servicio Administrativo Financiero  \n",
       "0  622 - Instituto Nacional de la Propiedad Indus...  \n",
       "1  622 - Instituto Nacional de la Propiedad Indus...  \n",
       "2  622 - Instituto Nacional de la Propiedad Indus...  \n",
       "3  622 - Instituto Nacional de la Propiedad Indus...  \n",
       "4  622 - Instituto Nacional de la Propiedad Indus...  "
      ]
     },
     "execution_count": 43,
     "metadata": {},
     "output_type": "execute_result"
    }
   ],
   "source": [
    "datos.head()"
   ]
  },
  {
   "cell_type": "code",
   "execution_count": 45,
   "id": "457dc71f",
   "metadata": {},
   "outputs": [
    {
     "name": "stdout",
     "output_type": "stream",
     "text": [
      "<class 'pandas.core.frame.DataFrame'>\n",
      "RangeIndex: 55759 entries, 0 to 55758\n",
      "Data columns (total 8 columns):\n",
      " #   Column                              Non-Null Count  Dtype \n",
      "---  ------                              --------------  ----- \n",
      " 0   Número de Proceso                   55759 non-null  object\n",
      " 1   Expediente                          55759 non-null  object\n",
      " 2   Nombre proceso                      55759 non-null  object\n",
      " 3   Tipo proceso                        55759 non-null  object\n",
      " 4   Fecha de apertura                   55759 non-null  object\n",
      " 5   Estado                              55759 non-null  object\n",
      " 6   Unidad Ejecutora                    55759 non-null  object\n",
      " 7   Servicio Administrativo Financiero  55759 non-null  object\n",
      "dtypes: object(8)\n",
      "memory usage: 3.4+ MB\n"
     ]
    }
   ],
   "source": [
    "datos.info()"
   ]
  },
  {
   "cell_type": "code",
   "execution_count": 46,
   "id": "6e78bdeb",
   "metadata": {},
   "outputs": [
    {
     "data": {
      "text/plain": [
       "Número de Proceso                     0\n",
       "Expediente                            0\n",
       "Nombre proceso                        0\n",
       "Tipo proceso                          0\n",
       "Fecha de apertura                     0\n",
       "Estado                                0\n",
       "Unidad Ejecutora                      0\n",
       "Servicio Administrativo Financiero    0\n",
       "dtype: int64"
      ]
     },
     "execution_count": 46,
     "metadata": {},
     "output_type": "execute_result"
    }
   ],
   "source": [
    "datos.isnull().sum()"
   ]
  },
  {
   "cell_type": "code",
   "execution_count": 47,
   "id": "bf2425de",
   "metadata": {},
   "outputs": [
    {
     "data": {
      "text/html": [
       "<div>\n",
       "<style scoped>\n",
       "    .dataframe tbody tr th:only-of-type {\n",
       "        vertical-align: middle;\n",
       "    }\n",
       "\n",
       "    .dataframe tbody tr th {\n",
       "        vertical-align: top;\n",
       "    }\n",
       "\n",
       "    .dataframe thead th {\n",
       "        text-align: right;\n",
       "    }\n",
       "</style>\n",
       "<table border=\"1\" class=\"dataframe\">\n",
       "  <thead>\n",
       "    <tr style=\"text-align: right;\">\n",
       "      <th></th>\n",
       "      <th>count</th>\n",
       "      <th>unique</th>\n",
       "      <th>top</th>\n",
       "      <th>freq</th>\n",
       "    </tr>\n",
       "  </thead>\n",
       "  <tbody>\n",
       "    <tr>\n",
       "      <th>Número de Proceso</th>\n",
       "      <td>55759</td>\n",
       "      <td>55759</td>\n",
       "      <td>101-0001-CDI20</td>\n",
       "      <td>1</td>\n",
       "    </tr>\n",
       "    <tr>\n",
       "      <th>Expediente</th>\n",
       "      <td>55759</td>\n",
       "      <td>55759</td>\n",
       "      <td>EX-2020-04589013-   -APN-DGCA#INPI</td>\n",
       "      <td>1</td>\n",
       "    </tr>\n",
       "    <tr>\n",
       "      <th>Nombre proceso</th>\n",
       "      <td>55759</td>\n",
       "      <td>49842</td>\n",
       "      <td>ADQUISICIÓN DE ELEMENTOS DE LIMPIEZA</td>\n",
       "      <td>157</td>\n",
       "    </tr>\n",
       "    <tr>\n",
       "      <th>Tipo proceso</th>\n",
       "      <td>55759</td>\n",
       "      <td>7</td>\n",
       "      <td>Contratación Directa</td>\n",
       "      <td>28904</td>\n",
       "    </tr>\n",
       "    <tr>\n",
       "      <th>Fecha de apertura</th>\n",
       "      <td>55759</td>\n",
       "      <td>14284</td>\n",
       "      <td>09/06/2020 10:00 Hrs.</td>\n",
       "      <td>137</td>\n",
       "    </tr>\n",
       "    <tr>\n",
       "      <th>Estado</th>\n",
       "      <td>55759</td>\n",
       "      <td>1</td>\n",
       "      <td>Adjudicado</td>\n",
       "      <td>55759</td>\n",
       "    </tr>\n",
       "    <tr>\n",
       "      <th>Unidad Ejecutora</th>\n",
       "      <td>55759</td>\n",
       "      <td>476</td>\n",
       "      <td>96 - Dirección General de Administración</td>\n",
       "      <td>1042</td>\n",
       "    </tr>\n",
       "    <tr>\n",
       "      <th>Servicio Administrativo Financiero</th>\n",
       "      <td>55759</td>\n",
       "      <td>144</td>\n",
       "      <td>374 - Estado Mayor General del Ejercito</td>\n",
       "      <td>7703</td>\n",
       "    </tr>\n",
       "  </tbody>\n",
       "</table>\n",
       "</div>"
      ],
      "text/plain": [
       "                                    count unique  \\\n",
       "Número de Proceso                   55759  55759   \n",
       "Expediente                          55759  55759   \n",
       "Nombre proceso                      55759  49842   \n",
       "Tipo proceso                        55759      7   \n",
       "Fecha de apertura                   55759  14284   \n",
       "Estado                              55759      1   \n",
       "Unidad Ejecutora                    55759    476   \n",
       "Servicio Administrativo Financiero  55759    144   \n",
       "\n",
       "                                                                         top  \\\n",
       "Número de Proceso                                             101-0001-CDI20   \n",
       "Expediente                                EX-2020-04589013-   -APN-DGCA#INPI   \n",
       "Nombre proceso                          ADQUISICIÓN DE ELEMENTOS DE LIMPIEZA   \n",
       "Tipo proceso                                            Contratación Directa   \n",
       "Fecha de apertura                                      09/06/2020 10:00 Hrs.   \n",
       "Estado                                                            Adjudicado   \n",
       "Unidad Ejecutora                    96 - Dirección General de Administración   \n",
       "Servicio Administrativo Financiero   374 - Estado Mayor General del Ejercito   \n",
       "\n",
       "                                     freq  \n",
       "Número de Proceso                       1  \n",
       "Expediente                              1  \n",
       "Nombre proceso                        157  \n",
       "Tipo proceso                        28904  \n",
       "Fecha de apertura                     137  \n",
       "Estado                              55759  \n",
       "Unidad Ejecutora                     1042  \n",
       "Servicio Administrativo Financiero   7703  "
      ]
     },
     "execution_count": 47,
     "metadata": {},
     "output_type": "execute_result"
    }
   ],
   "source": [
    "datos.describe(include = 'all').T"
   ]
  },
  {
   "cell_type": "code",
   "execution_count": 49,
   "id": "03c245a0",
   "metadata": {},
   "outputs": [
    {
     "data": {
      "text/plain": [
       "array(['Contratación Directa', 'Licitación Privada', 'Licitación Pública',\n",
       "       'Concurso Privado', 'Concurso Público', 'Subasta Pública',\n",
       "       'Compulsa de Precios'], dtype=object)"
      ]
     },
     "execution_count": 49,
     "metadata": {},
     "output_type": "execute_result"
    }
   ],
   "source": [
    "datos['Tipo proceso'].unique()"
   ]
  },
  {
   "cell_type": "code",
   "execution_count": 62,
   "id": "49a90214",
   "metadata": {},
   "outputs": [],
   "source": [
    "cant_lic_segun_serv = datos['Expediente'].groupby(datos['Servicio Administrativo Financiero']).count().sort_values(ascending=False)"
   ]
  },
  {
   "cell_type": "code",
   "execution_count": 66,
   "id": "b14d1a93",
   "metadata": {},
   "outputs": [
    {
     "data": {
      "text/plain": [
       "Servicio Administrativo Financiero\n",
       "374 - Estado Mayor General del Ejercito                                                     7703\n",
       "604 - Dirección Nacional de Vialidad                                                        6432\n",
       "379 - Estado Mayor General de la Armada                                                     5256\n",
       "381 - Estado Mayor General de La Fuerza Aérea                                               3855\n",
       "375 - Gendarmeria Nacional                                                                  2992\n",
       "105 - Comisión Nacional de Energía Atómica                                                  2205\n",
       "107 - Administración de Parques Nacionales                                                  1779\n",
       "906 - Administración Nacional de Laboratorios e Institutos de Salud “Dr. Carlos Malbrán”     856\n",
       "311 - Ministerio de Salud y Desarrollo Social                                                731\n",
       "301 - Secretaria General de la Presidencia de la Nación                                      675\n",
       "908 - Hospital Nacional Profesor Alejandro Posadas                                           608\n",
       "337 - Ministerio de Cultura                                                                  562\n",
       "607 - Instituto Nacional de Investigación y Desarrollo Pesquero                              559\n",
       "903 - Hospital Nacional \"Dr Baldomero Sommer\"                                                525\n",
       "305 - Jefatura de Gabinete de Ministros                                                      514\n",
       "850 - Administración Nacional de la Seguridad Social                                         504\n",
       "371 - Estado Mayor Conjunto (EMCO)                                                           495\n",
       "112 - Autoridad Regulatoria Nuclear                                                          445\n",
       "623 - Servicio Nacional de Sanidad y Calidad Agroalimentaria                                 436\n",
       "908 - Hospital Nacional Dr. Alejandro Posadas                                                434\n",
       "Name: Expediente, dtype: int64"
      ]
     },
     "execution_count": 66,
     "metadata": {},
     "output_type": "execute_result"
    }
   ],
   "source": [
    "cant_lic_segun_serv.head(20)"
   ]
  },
  {
   "cell_type": "code",
   "execution_count": null,
   "id": "dcda1393",
   "metadata": {},
   "outputs": [],
   "source": []
  }
 ],
 "metadata": {
  "kernelspec": {
   "display_name": "Python 3 (ipykernel)",
   "language": "python",
   "name": "python3"
  },
  "language_info": {
   "codemirror_mode": {
    "name": "ipython",
    "version": 3
   },
   "file_extension": ".py",
   "mimetype": "text/x-python",
   "name": "python",
   "nbconvert_exporter": "python",
   "pygments_lexer": "ipython3",
   "version": "3.9.7"
  }
 },
 "nbformat": 4,
 "nbformat_minor": 5
}
